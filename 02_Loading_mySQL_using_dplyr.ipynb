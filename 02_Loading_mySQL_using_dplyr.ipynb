{
 "cells": [
  {
   "cell_type": "code",
   "execution_count": 1,
   "metadata": {},
   "outputs": [],
   "source": [
    "library(DBI)\n",
    "library(RMySQL)\n",
    "library(dplyr, warn.conflicts = FALSE)"
   ]
  },
  {
   "cell_type": "code",
   "execution_count": 2,
   "metadata": {},
   "outputs": [],
   "source": [
    "con <- DBI::dbConnect(drv=RMySQL::MySQL(), \n",
    "                      dbname=\"classicmodels\",\n",
    "                      host=\"127.0.0.1\", \n",
    "                      username=\"root\", \n",
    "                      password=\"password\")"
   ]
  },
  {
   "cell_type": "code",
   "execution_count": 3,
   "metadata": {
    "scrolled": true
   },
   "outputs": [
    {
     "data": {
      "text/html": [
       "<style>\n",
       ".list-inline {list-style: none; margin:0; padding: 0}\n",
       ".list-inline>li {display: inline-block}\n",
       ".list-inline>li:not(:last-child)::after {content: \"\\00b7\"; padding: 0 .5ex}\n",
       "</style>\n",
       "<ol class=list-inline><li>'customers'</li><li>'employees'</li><li>'offices'</li><li>'orderdetails'</li><li>'orders'</li><li>'payments'</li><li>'productlines'</li><li>'products'</li></ol>\n"
      ],
      "text/latex": [
       "\\begin{enumerate*}\n",
       "\\item 'customers'\n",
       "\\item 'employees'\n",
       "\\item 'offices'\n",
       "\\item 'orderdetails'\n",
       "\\item 'orders'\n",
       "\\item 'payments'\n",
       "\\item 'productlines'\n",
       "\\item 'products'\n",
       "\\end{enumerate*}\n"
      ],
      "text/markdown": [
       "1. 'customers'\n",
       "2. 'employees'\n",
       "3. 'offices'\n",
       "4. 'orderdetails'\n",
       "5. 'orders'\n",
       "6. 'payments'\n",
       "7. 'productlines'\n",
       "8. 'products'\n",
       "\n",
       "\n"
      ],
      "text/plain": [
       "[1] \"customers\"    \"employees\"    \"offices\"      \"orderdetails\" \"orders\"      \n",
       "[6] \"payments\"     \"productlines\" \"products\"    "
      ]
     },
     "metadata": {},
     "output_type": "display_data"
    }
   ],
   "source": [
    "dbListTables(con)"
   ]
  },
  {
   "cell_type": "code",
   "execution_count": 4,
   "metadata": {},
   "outputs": [],
   "source": [
    "office_table <- tbl(con, \"offices\")"
   ]
  },
  {
   "cell_type": "code",
   "execution_count": 5,
   "metadata": {},
   "outputs": [
    {
     "name": "stdout",
     "output_type": "stream",
     "text": [
      "\u001b[38;5;246m# Source:   table<offices> [?? x 9]\u001b[39m\n",
      "\u001b[38;5;246m# Database: mysql 8.0.20 [root@127.0.0.1:/classicmodels]\u001b[39m\n",
      "  officeCode city  phone addressLine1 addressLine2 state country postalCode\n",
      "  \u001b[3m\u001b[38;5;246m<chr>\u001b[39m\u001b[23m      \u001b[3m\u001b[38;5;246m<chr>\u001b[39m\u001b[23m \u001b[3m\u001b[38;5;246m<chr>\u001b[39m\u001b[23m \u001b[3m\u001b[38;5;246m<chr>\u001b[39m\u001b[23m        \u001b[3m\u001b[38;5;246m<chr>\u001b[39m\u001b[23m        \u001b[3m\u001b[38;5;246m<chr>\u001b[39m\u001b[23m \u001b[3m\u001b[38;5;246m<chr>\u001b[39m\u001b[23m   \u001b[3m\u001b[38;5;246m<chr>\u001b[39m\u001b[23m     \n",
      "\u001b[38;5;250m1\u001b[39m 1          San … +1 6… 100 Market … Suite 300    CA    USA     94080     \n",
      "\u001b[38;5;250m2\u001b[39m 2          Bost… +1 2… 1550 Court … Suite 102    MA    USA     02107     \n",
      "\u001b[38;5;250m3\u001b[39m 3          NYC   +1 2… 523 East 53… apt. 5A      NY    USA     10022     \n",
      "\u001b[38;5;250m4\u001b[39m 4          Paris +33 … 43 Rue Jouf… \u001b[31mNA\u001b[39m           \u001b[31mNA\u001b[39m    France  75017     \n",
      "\u001b[38;5;250m5\u001b[39m 5          Tokyo +81 … 4-1 Kioicho  \u001b[31mNA\u001b[39m           Chiy… Japan   102-8578  \n",
      "\u001b[38;5;250m6\u001b[39m 6          Sydn… +61 … 5-11 Wentwo… Floor #2     \u001b[31mNA\u001b[39m    Austra… NSW 2010  \n",
      "\u001b[38;5;250m7\u001b[39m 7          Lond… +44 … 25 Old Broa… Level 7      \u001b[31mNA\u001b[39m    UK      EC2N 1HN  \n",
      "\u001b[38;5;246m# … with 1 more variable: territory \u001b[3m\u001b[38;5;246m<chr>\u001b[38;5;246m\u001b[23m\u001b[39m\n"
     ]
    }
   ],
   "source": [
    "print(office_table)"
   ]
  },
  {
   "cell_type": "code",
   "execution_count": 6,
   "metadata": {},
   "outputs": [
    {
     "data": {
      "text/plain": [
       "\u001b[38;5;246m# Source:   lazy query [?? x 2]\u001b[39m\n",
       "\u001b[38;5;246m# Database: mysql 8.0.20 [root@127.0.0.1:/classicmodels]\u001b[39m\n",
       "  officeCode city         \n",
       "  \u001b[3m\u001b[38;5;246m<chr>\u001b[39m\u001b[23m      \u001b[3m\u001b[38;5;246m<chr>\u001b[39m\u001b[23m        \n",
       "\u001b[38;5;250m1\u001b[39m 1          San Francisco\n",
       "\u001b[38;5;250m2\u001b[39m 2          Boston       \n",
       "\u001b[38;5;250m3\u001b[39m 3          NYC          \n",
       "\u001b[38;5;250m4\u001b[39m 4          Paris        \n",
       "\u001b[38;5;250m5\u001b[39m 5          Tokyo        \n",
       "\u001b[38;5;250m6\u001b[39m 6          Sydney       \n",
       "\u001b[38;5;250m7\u001b[39m 7          London       "
      ]
     },
     "metadata": {},
     "output_type": "display_data"
    }
   ],
   "source": [
    "office_table %>% select(officeCode, city)"
   ]
  },
  {
   "cell_type": "code",
   "execution_count": null,
   "metadata": {},
   "outputs": [],
   "source": []
  }
 ],
 "metadata": {
  "kernelspec": {
   "display_name": "R",
   "language": "R",
   "name": "ir"
  },
  "language_info": {
   "codemirror_mode": "r",
   "file_extension": ".r",
   "mimetype": "text/x-r-source",
   "name": "R",
   "pygments_lexer": "r",
   "version": "4.0.1"
  }
 },
 "nbformat": 4,
 "nbformat_minor": 4
}
