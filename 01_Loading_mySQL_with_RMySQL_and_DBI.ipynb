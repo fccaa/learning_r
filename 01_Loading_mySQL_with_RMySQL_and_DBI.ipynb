{
 "cells": [
  {
   "cell_type": "code",
   "execution_count": 1,
   "metadata": {},
   "outputs": [],
   "source": [
    "library(DBI)\n",
    "library(RMySQL)"
   ]
  },
  {
   "cell_type": "code",
   "execution_count": 2,
   "metadata": {},
   "outputs": [],
   "source": [
    "con <- DBI::dbConnect(drv=RMySQL::MySQL(), \n",
    "                      dbname=\"classicmodels\",\n",
    "                      host=\"127.0.0.1\", \n",
    "                      username=\"root\", \n",
    "                      password=\"password\")"
   ]
  },
  {
   "cell_type": "code",
   "execution_count": 3,
   "metadata": {},
   "outputs": [],
   "source": [
    "A = DBI::dbGetQuery(con, \"show tables;\")"
   ]
  },
  {
   "cell_type": "code",
   "execution_count": 4,
   "metadata": {},
   "outputs": [
    {
     "name": "stdout",
     "output_type": "stream",
     "text": [
      "  Tables_in_classicmodels\n",
      "1               customers\n",
      "2               employees\n",
      "3                 offices\n",
      "4            orderdetails\n",
      "5                  orders\n",
      "6                payments\n",
      "7            productlines\n",
      "8                products\n"
     ]
    }
   ],
   "source": [
    "print(A)"
   ]
  },
  {
   "cell_type": "code",
   "execution_count": 5,
   "metadata": {},
   "outputs": [],
   "source": [
    "B = DBI::dbGetQuery(con, \"select * from employees;\")"
   ]
  },
  {
   "cell_type": "code",
   "execution_count": 6,
   "metadata": {},
   "outputs": [
    {
     "name": "stdout",
     "output_type": "stream",
     "text": [
      "   employeeNumber  lastName firstName extension                           email\n",
      "1            1002    Murphy     Diane     x5800    dmurphy@classicmodelcars.com\n",
      "2            1056 Patterson      Mary     x4611  mpatterso@classicmodelcars.com\n",
      "3            1076  Firrelli      Jeff     x9273  jfirrelli@classicmodelcars.com\n",
      "4            1088 Patterson   William     x4871 wpatterson@classicmodelcars.com\n",
      "5            1102    Bondur    Gerard     x5408    gbondur@classicmodelcars.com\n",
      "6            1143       Bow   Anthony     x5428       abow@classicmodelcars.com\n",
      "7            1165  Jennings    Leslie     x3291  ljennings@classicmodelcars.com\n",
      "8            1166  Thompson    Leslie     x4065  lthompson@classicmodelcars.com\n",
      "9            1188  Firrelli     Julie     x2173  jfirrelli@classicmodelcars.com\n",
      "10           1216 Patterson     Steve     x4334 spatterson@classicmodelcars.com\n",
      "11           1286     Tseng  Foon Yue     x2248     ftseng@classicmodelcars.com\n",
      "12           1323    Vanauf    George     x4102    gvanauf@classicmodelcars.com\n",
      "13           1337    Bondur      Loui     x6493    lbondur@classicmodelcars.com\n",
      "14           1370 Hernandez    Gerard     x2028  ghernande@classicmodelcars.com\n",
      "15           1401  Castillo    Pamela     x2759  pcastillo@classicmodelcars.com\n",
      "16           1501      Bott     Larry     x2311      lbott@classicmodelcars.com\n",
      "17           1504     Jones     Barry      x102     bjones@classicmodelcars.com\n",
      "18           1611    Fixter      Andy      x101    afixter@classicmodelcars.com\n",
      "19           1612     Marsh     Peter      x102     pmarsh@classicmodelcars.com\n",
      "20           1619      King       Tom      x103      tking@classicmodelcars.com\n",
      "21           1621     Nishi      Mami      x101     mnishi@classicmodelcars.com\n",
      "22           1625      Kato   Yoshimi      x102      ykato@classicmodelcars.com\n",
      "23           1702    Gerard    Martin     x2312    mgerard@classicmodelcars.com\n",
      "   officeCode reportsTo             jobTitle\n",
      "1           1        NA            President\n",
      "2           1      1002             VP Sales\n",
      "3           1      1002         VP Marketing\n",
      "4           6      1056 Sales Manager (APAC)\n",
      "5           4      1056  Sale Manager (EMEA)\n",
      "6           1      1056   Sales Manager (NA)\n",
      "7           1      1143            Sales Rep\n",
      "8           1      1143            Sales Rep\n",
      "9           2      1143            Sales Rep\n",
      "10          2      1143            Sales Rep\n",
      "11          3      1143            Sales Rep\n",
      "12          3      1143            Sales Rep\n",
      "13          4      1102            Sales Rep\n",
      "14          4      1102            Sales Rep\n",
      "15          4      1102            Sales Rep\n",
      "16          7      1102            Sales Rep\n",
      "17          7      1102            Sales Rep\n",
      "18          6      1088            Sales Rep\n",
      "19          6      1088            Sales Rep\n",
      "20          6      1088            Sales Rep\n",
      "21          5      1056            Sales Rep\n",
      "22          5      1621            Sales Rep\n",
      "23          4      1102            Sales Rep\n"
     ]
    }
   ],
   "source": [
    "print(B)"
   ]
  },
  {
   "cell_type": "code",
   "execution_count": null,
   "metadata": {},
   "outputs": [],
   "source": []
  }
 ],
 "metadata": {
  "kernelspec": {
   "display_name": "R",
   "language": "R",
   "name": "ir"
  },
  "language_info": {
   "codemirror_mode": "r",
   "file_extension": ".r",
   "mimetype": "text/x-r-source",
   "name": "R",
   "pygments_lexer": "r",
   "version": "4.0.1"
  }
 },
 "nbformat": 4,
 "nbformat_minor": 4
}
