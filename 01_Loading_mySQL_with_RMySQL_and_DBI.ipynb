{
 "cells": [
  {
   "cell_type": "code",
   "execution_count": 1,
   "metadata": {},
   "outputs": [],
   "source": [
    "library(DBI)\n",
    "library(RMySQL)"
   ]
  },
  {
   "cell_type": "code",
   "execution_count": 2,
   "metadata": {},
   "outputs": [],
   "source": [
    "con <- DBI::dbConnect(drv=RMySQL::MySQL(), \n",
    "                      dbname=\"classicmodels\",\n",
    "                      host=\"127.0.0.1\", \n",
    "                      username=\"root\", \n",
    "                      password=\"gotohome\")"
   ]
  },
  {
   "cell_type": "code",
   "execution_count": 3,
   "metadata": {},
   "outputs": [],
   "source": [
    "con2 <- DBI::dbConnect(drv=RMySQL::MySQL(), \n",
    "                      dbname=\"sys\",\n",
    "                      host=\"127.0.0.1\", \n",
    "                      username=\"root\", \n",
    "                      password=\"gotohome\")"
   ]
  },
  {
   "cell_type": "code",
   "execution_count": 4,
   "metadata": {},
   "outputs": [],
   "source": [
    "A = DBI::dbGetQuery(con, \"show tables;\")"
   ]
  },
  {
   "cell_type": "code",
   "execution_count": 8,
   "metadata": {},
   "outputs": [
    {
     "name": "stdout",
     "output_type": "stream",
     "text": [
      "   Tables_in_classicmodels\n",
      "1               committees\n",
      "2                customers\n",
      "3                employees\n",
      "4                  members\n",
      "5                  offices\n",
      "6             orderdetails\n",
      "7                   orders\n",
      "8                 payments\n",
      "9             productlines\n",
      "10                products\n"
     ]
    }
   ],
   "source": [
    "print(a)"
   ]
  },
  {
   "cell_type": "code",
   "execution_count": 10,
   "metadata": {},
   "outputs": [],
   "source": [
    "B = DBI::dbGetQuery(con, \"select * from employees where employeeNumber > 1500;\")"
   ]
  },
  {
   "cell_type": "code",
   "execution_count": 11,
   "metadata": {},
   "outputs": [
    {
     "name": "stdout",
     "output_type": "stream",
     "text": [
      "  employeeNumber lastName firstName extension                        email\n",
      "1           1501     Bott     Larry     x2311   lbott@classicmodelcars.com\n",
      "2           1504    Jones     Barry      x102  bjones@classicmodelcars.com\n",
      "3           1611   Fixter      Andy      x101 afixter@classicmodelcars.com\n",
      "4           1612    Marsh     Peter      x102  pmarsh@classicmodelcars.com\n",
      "5           1619     King       Tom      x103   tking@classicmodelcars.com\n",
      "6           1621    Nishi      Mami      x101  mnishi@classicmodelcars.com\n",
      "7           1625     Kato   Yoshimi      x102   ykato@classicmodelcars.com\n",
      "8           1702   Gerard    Martin     x2312 mgerard@classicmodelcars.com\n",
      "  officeCode reportsTo  jobTitle\n",
      "1          7      1102 Sales Rep\n",
      "2          7      1102 Sales Rep\n",
      "3          6      1088 Sales Rep\n",
      "4          6      1088 Sales Rep\n",
      "5          6      1088 Sales Rep\n",
      "6          5      1056 Sales Rep\n",
      "7          5      1621 Sales Rep\n",
      "8          4      1102 Sales Rep\n"
     ]
    }
   ],
   "source": [
    "print(B)"
   ]
  },
  {
   "cell_type": "code",
   "execution_count": 12,
   "metadata": {},
   "outputs": [],
   "source": [
    "library(xlsx)"
   ]
  },
  {
   "cell_type": "code",
   "execution_count": 15,
   "metadata": {},
   "outputs": [],
   "source": [
    "xlsx::write.xlsx(x = B, file = \"/home/alan/lab/playground/learning_r-master/test.xlsx\")"
   ]
  },
  {
   "cell_type": "code",
   "execution_count": null,
   "metadata": {},
   "outputs": [],
   "source": []
  }
 ],
 "metadata": {
  "kernelspec": {
   "display_name": "R",
   "language": "R",
   "name": "ir"
  },
  "language_info": {
   "codemirror_mode": "r",
   "file_extension": ".r",
   "mimetype": "text/x-r-source",
   "name": "R",
   "pygments_lexer": "r",
   "version": "3.6.3"
  }
 },
 "nbformat": 4,
 "nbformat_minor": 4
}
